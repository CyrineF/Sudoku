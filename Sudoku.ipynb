{
  "nbformat": 4,
  "nbformat_minor": 0,
  "metadata": {
    "colab": {
      "name": "Sudoku.ipynb",
      "provenance": [],
      "collapsed_sections": []
    },
    "kernelspec": {
      "name": "python3",
      "display_name": "Python 3"
    },
    "language_info": {
      "name": "python"
    }
  },
  "cells": [
    {
      "cell_type": "markdown",
      "source": [
        "**Initialisation**"
      ],
      "metadata": {
        "id": "DfN1SytxShD9"
      }
    },
    {
      "cell_type": "code",
      "execution_count": null,
      "metadata": {
        "id": "jWKukMbWRzbm"
      },
      "outputs": [],
      "source": [
        "import numpy as np\n",
        "S_initial = np.array([[1,9,0,5,4,2,0,6,3],[4,0,7,9,0,0,0,0,8],[2,3,0,1,0,8,0,0,0],\n",
        "                     [0,2,0,0,3,1,6,9,7],[0,0,0,0,2,0,0,4,0],[7,6,1,4,9,0,0,3,0],\n",
        "                     [0,0,0,7,0,6,0,1,9],[8,0,0,0,0,4,3,0,6],[6,7,0,3,0,0,0,8,5]])"
      ]
    },
    {
      "cell_type": "code",
      "source": [
        "S_solution = np.array([[1,9,8  ,5,4,2  ,7,6,3],\n",
        "[4,5,7,  9,6,3,  1,2,8],\n",
        "[2,3,6  ,1,7,8,  9,5,4],\n",
        "\n",
        "[5,2,4  ,8,3,1,  6,9,7],\n",
        "[9,8,3  ,6,2,7,  5,4,1],\n",
        "[7,6,1,  4,9,5,  8,3,2],\n",
        "\n",
        "[3,4,5  ,7,8,6  ,2,1,9],\n",
        "[8,1,9  ,2,5,4,  3,7,6],\n",
        "[6,7,2  ,3,1,9,  4,8,5]\n",
        "])"
      ],
      "metadata": {
        "id": "Fp1F_zpFSoDc"
      },
      "execution_count": null,
      "outputs": []
    },
    {
      "cell_type": "code",
      "source": [
        "chiffres = set([1,2,3,4,5,6,7,8,9])"
      ],
      "metadata": {
        "id": "PVbHStU9Sznm"
      },
      "execution_count": null,
      "outputs": []
    },
    {
      "cell_type": "markdown",
      "source": [
        "**Définition des fonctions** "
      ],
      "metadata": {
        "id": "35xT6JA9R562"
      }
    },
    {
      "cell_type": "code",
      "source": [
        "def ligne_verif (k,i):\n",
        "    l = set(grille[i])\n",
        "    return not(k in l )"
      ],
      "metadata": {
        "id": "pN2OIIXeS7OK"
      },
      "execution_count": null,
      "outputs": []
    },
    {
      "cell_type": "code",
      "source": [
        "def colonne_verif (k,i):\n",
        "    l = set(grille[:,i])\n",
        "    return not(k in l )"
      ],
      "metadata": {
        "id": "utzrrdk5S8T9"
      },
      "execution_count": null,
      "outputs": []
    },
    {
      "cell_type": "code",
      "source": [
        "def new_set (l) :\n",
        "    e = set()\n",
        "    for w in range(3) :\n",
        "        dic = set(l[w])\n",
        "        e = e.union(dic)\n",
        "    return e\n",
        "\n",
        "def carré_verif (k,i,j):\n",
        "    a = i//3\n",
        "    b = j//3\n",
        "    if a == 0 :\n",
        "        if b == 0  : \n",
        "            l = grille[0:3,0:3]\n",
        "            e = new_set(l)\n",
        "            return not(k in e )\n",
        "        elif b == 1 : \n",
        "            l = grille[0:3,3:6]\n",
        "            e = new_set(l)\n",
        "            return not(k in e )\n",
        "        else :\n",
        "            l = grille[0:3,6:9]\n",
        "            e = new_set(l)\n",
        "            return not(k in e )\n",
        "    elif a == 1 :\n",
        "        if b == 0  : \n",
        "            l = grille[3:6,0:3]\n",
        "            e = new_set(l)\n",
        "            return not(k in e )\n",
        "        elif b == 1 : \n",
        "            l = grille[3:6,3:6]\n",
        "            e = new_set(l)\n",
        "            return not(k in e )\n",
        "        else :\n",
        "            l = grille[3:6,6:9]\n",
        "            e = new_set(l)\n",
        "            return not(k in e )\n",
        "                \n",
        "    else  :\n",
        "        if b == 0  : \n",
        "            l = grille[6:9,0:3]\n",
        "            e = new_set(l)\n",
        "            return not(k in e )\n",
        "        elif b == 1 : \n",
        "            l = grille[6:9,3:6]\n",
        "            e = new_set(l)\n",
        "            return not(k in e )\n",
        "        else :\n",
        "            l = grille[6:9,6:9]\n",
        "            e = new_set(l)\n",
        "            return not(k in e )"
      ],
      "metadata": {
        "id": "7aS4LaQ0TE4K"
      },
      "execution_count": null,
      "outputs": []
    },
    {
      "cell_type": "code",
      "source": [
        "def verification (k, i, j) :\n",
        "    return colonne_verif(k, j) and carré_verif(k,i,j)"
      ],
      "metadata": {
        "id": "3q-Kr7ISTbtG"
      },
      "execution_count": null,
      "outputs": []
    },
    {
      "cell_type": "code",
      "source": [
        "def verification_col(k, i,j): \n",
        "  return ligne_verif(k,i) and carré_verif(k,i,j)"
      ],
      "metadata": {
        "id": "UvmMGnEOB9Qx"
      },
      "execution_count": null,
      "outputs": []
    },
    {
      "cell_type": "code",
      "source": [
        "def verification_carre(k,i,j) :\n",
        "  return ligne_verif(k,i) and colonne_verif(k, j )"
      ],
      "metadata": {
        "id": "VxDdpfjpCRv6"
      },
      "execution_count": null,
      "outputs": []
    },
    {
      "cell_type": "code",
      "source": [
        "import copy\n",
        "def traiter (grille, i): \n",
        "    état = []\n",
        "    n_grille = copy.deepcopy(grille)\n",
        "    l = set(grille[i]) #ensemble contenant la ligne num i du tableau \n",
        "    ch = chiffres.difference(l) #ensemble contenant les numéros manquants \n",
        "    #print(ch)\n",
        "    for element in ch :\n",
        "        t ={}\n",
        "        for j in range(9) : \n",
        "            if grille[i,j] == 0 :\n",
        "                t[j] = verification(element,i,j)\n",
        "        values = list(t.values())\n",
        "        #print(t)\n",
        "        if values.count(True) == 1 : \n",
        "            for key, val in t.items() : \n",
        "                if val == True : \n",
        "                    n_grille [i,key] = element \n",
        "                    break\n",
        "    return n_grille"
      ],
      "metadata": {
        "id": "5Dl4S99JThWP"
      },
      "execution_count": null,
      "outputs": []
    },
    {
      "cell_type": "code",
      "source": [
        "def empiler(Pile,g) : \n",
        "    Pile.append(g)\n",
        "    return Pile\n",
        "\n",
        "def depiler(Pile) : \n",
        "    return Pile.pop()"
      ],
      "metadata": {
        "id": "azvxQO0eTmGz"
      },
      "execution_count": null,
      "outputs": []
    },
    {
      "cell_type": "markdown",
      "source": [
        "Algorithme de recherche en profondeur"
      ],
      "metadata": {
        "id": "6jUgc8XZTqr0"
      }
    },
    {
      "cell_type": "code",
      "source": [
        "#recherche en profondeur \n",
        "import copy\n",
        "Pile = [S_initial]\n",
        "grille = copy.deepcopy(S_initial)\n",
        "print(grille)\n",
        "nb_iteration = 0\n",
        "\n",
        "while not((np.array_equal(grille,S_solution)) and (Pile != [])) :\n",
        "    nb_iteration +=1 \n",
        "    for i in range (8,-1,-1) :\n",
        "        print(i)\n",
        "        l = list(grille[i])\n",
        "        if l.count(0) != 0 :\n",
        "          g = traiter(grille,i)\n",
        "          print(g)\n",
        "          if not((np.array_equal(grille,g)) ):\n",
        "                 empiler(Pile,g)\n",
        "    grille = depiler(Pile)\n",
        "    print(\"grille =  \",grille)\n",
        "    \n",
        "print(grille)\n",
        "print(\"le nombre d'iteration est : \",nb_iteration)"
      ],
      "metadata": {
        "id": "8N5vonHAT21s"
      },
      "execution_count": null,
      "outputs": []
    },
    {
      "cell_type": "markdown",
      "source": [
        "**Best first**"
      ],
      "metadata": {
        "id": "SwSsqHJq9PX2"
      }
    },
    {
      "cell_type": "code",
      "source": [
        "def enfiler(File,g) :\n",
        "  return File.append(g)"
      ],
      "metadata": {
        "id": "PDcR019W-kEQ"
      },
      "execution_count": null,
      "outputs": []
    },
    {
      "cell_type": "code",
      "source": [
        "def defiler(File) :\n",
        "  return File.pop(0)"
      ],
      "metadata": {
        "id": "7HRYCFwjKUrj"
      },
      "execution_count": null,
      "outputs": []
    },
    {
      "cell_type": "code",
      "source": [
        "import copy\n",
        "def traiter2 (grille, i): \n",
        "    état = []\n",
        "    n_grille = copy.deepcopy(grille)\n",
        "    l = set(grille[i]) #ensemble contenant la ligne num i du tableau \n",
        "    ch = chiffres.difference(l) #ensemble contenant les numéros manquants \n",
        "    #print(ch)\n",
        "    for element in ch :\n",
        "        t ={}\n",
        "        for j in range(9) : \n",
        "            if grille[i,j] == 0 :\n",
        "                t[j] = verification(element,i,j)\n",
        "        values = list(t.values())\n",
        "        #print(t)\n",
        "        if values.count(True) == 1 : \n",
        "            for key, val in t.items() : \n",
        "                if val == True : \n",
        "                    n_grille [i,key] = element \n",
        "                    break\n",
        "    return n_grille"
      ],
      "metadata": {
        "id": "kePFz0uZNrWE"
      },
      "execution_count": null,
      "outputs": []
    },
    {
      "cell_type": "code",
      "source": [
        "traiter2(grille,0)"
      ],
      "metadata": {
        "id": "0Oj1Zia_R5rV",
        "colab": {
          "base_uri": "https://localhost:8080/"
        },
        "outputId": "859d71ec-a2e3-4ae1-8e90-984bd17cf6b2"
      },
      "execution_count": null,
      "outputs": [
        {
          "output_type": "execute_result",
          "data": {
            "text/plain": [
              "array([[1, 9, 8, 5, 4, 2, 7, 6, 3],\n",
              "       [4, 5, 7, 9, 6, 3, 1, 2, 8],\n",
              "       [2, 3, 6, 1, 7, 8, 9, 5, 4],\n",
              "       [5, 2, 4, 8, 3, 1, 6, 9, 7],\n",
              "       [9, 8, 3, 6, 2, 7, 5, 4, 1],\n",
              "       [7, 6, 1, 4, 9, 5, 8, 3, 2],\n",
              "       [3, 4, 5, 7, 8, 6, 2, 1, 9],\n",
              "       [8, 1, 9, 2, 5, 4, 3, 7, 6],\n",
              "       [6, 7, 2, 3, 1, 9, 4, 8, 5]])"
            ]
          },
          "metadata": {},
          "execution_count": 51
        }
      ]
    },
    {
      "cell_type": "code",
      "source": [
        "def heuristic1(grille) :\n",
        "  l = {}\n",
        "  for i in range(9) :\n",
        "    d = list(grille[i])\n",
        "    if d.count(0) != 0 :\n",
        "      l[i] = d.count(0)\n",
        "  t = sorted(l , key=l.get)\n",
        "  \n",
        "  return t"
      ],
      "metadata": {
        "id": "DuFSpa3RPD5D"
      },
      "execution_count": null,
      "outputs": []
    },
    {
      "cell_type": "code",
      "source": [
        "# Best first\n",
        "import copy\n",
        "File = [S_initial]\n",
        "grille = copy.deepcopy(S_initial)\n",
        "print(grille)\n",
        "nb_iteration = 0\n",
        "\n",
        "while (not((np.array_equal(grille,S_solution))) and (File != [])) :\n",
        "  nb_iteration +=1 \n",
        "  if nb_iteration == 1 :\n",
        "    defiler(File)\n",
        "  else : \n",
        "    File = []\n",
        "  fi= heuristic1(grille)\n",
        "  print(\"fi = \",fi)\n",
        "  Choix = fi[0]\n",
        "  for i in fi :\n",
        "    l = list(grille[i])\n",
        "    if l.count(0) != 0 :\n",
        "      g = traiter2(grille, i)\n",
        "      #print(g)\n",
        "      if not((np.array_equal(grille,g)) ):\n",
        "        enfiler(File,g)\n",
        "        #print(nb_iteration,\" file :\",File)\n",
        "  grille = defiler(File)\n",
        "  print(\"grille =  \",grille)\n",
        "  \n",
        "    \n",
        "print(grille)\n",
        "print(\"le nombre d'iteration est : \",nb_iteration)"
      ],
      "metadata": {
        "id": "zqQZqOfSHx5t"
      },
      "execution_count": null,
      "outputs": []
    },
    {
      "cell_type": "code",
      "source": [
        "np.array_equal(grille,S_solution)"
      ],
      "metadata": {
        "colab": {
          "base_uri": "https://localhost:8080/"
        },
        "id": "dKBs3WBKMJ2R",
        "outputId": "f57872df-b9c2-4cae-a69a-1b8341de6b18"
      },
      "execution_count": null,
      "outputs": [
        {
          "output_type": "execute_result",
          "data": {
            "text/plain": [
              "True"
            ]
          },
          "metadata": {},
          "execution_count": 54
        }
      ]
    },
    {
      "cell_type": "code",
      "source": [
        "def heuristic2(grille) :\n",
        "  l = {}\n",
        "  for i in range(9) :\n",
        "    d = list(grille[i])\n",
        "    if d.count(0) != 0 :\n",
        "      l[i] = d.count(0)/9\n",
        "  t = sorted(l , key=l.get)\n",
        "  \n",
        "  return t"
      ],
      "metadata": {
        "id": "JGgsCfV7t9q_"
      },
      "execution_count": null,
      "outputs": []
    },
    {
      "cell_type": "code",
      "source": [
        "# Best first\n",
        "import copy\n",
        "File = [S_initial]\n",
        "grille = copy.deepcopy(S_initial)\n",
        "print(grille)\n",
        "nb_iteration = 0\n",
        "\n",
        "while (not((np.array_equal(grille,S_solution))) and (File != [])) :\n",
        "  nb_iteration +=1 \n",
        "  if nb_iteration == 1 :\n",
        "    defiler(File)\n",
        "  else : \n",
        "    File = []\n",
        "  fi= heuristic2(grille)\n",
        "  print(\"fi = \",fi)\n",
        "  Choix = fi[0]\n",
        "  for i in fi :\n",
        "    l = list(grille[i])\n",
        "    if l.count(0) != 0 :\n",
        "      g = traiter2(grille, i)\n",
        "      #print(g)\n",
        "      if not((np.array_equal(grille,g)) ):\n",
        "        enfiler(File,g)\n",
        "        #print(nb_iteration,\" file :\",File)\n",
        "  grille = defiler(File)\n",
        "  print(\"grille =  \",grille)\n",
        "  \n",
        "    \n",
        "print(grille)\n",
        "print(\"le nombre d'iteration est : \",nb_iteration)"
      ],
      "metadata": {
        "id": "Lrb1dG--3cv4"
      },
      "execution_count": null,
      "outputs": []
    },
    {
      "cell_type": "code",
      "source": [
        "grille =np.array([[1, 9,8, 5, 4, 2, 7, 6, 3],\n",
        " [4, 0, 7, 9, 6 ,3, 1, 0, 8],\n",
        " [2 ,3 ,0 ,1 ,0 ,8 ,9 ,0 ,0],\n",
        " [0 ,2, 4, 0 ,3 ,1, 6, 9, 7],\n",
        " [0 ,0 ,0 ,6, 2 ,7 ,0 ,4 ,0],\n",
        " [7 ,6, 1, 4, 9, 0, 0, 3 ,0],\n",
        " [0 ,0 ,0 ,7, 0, 6 ,0 ,1 ,9],\n",
        " [8, 0, 0, 0, 0, 4 ,3 ,0, 6],\n",
        " [6 ,7 ,0 ,3 ,0, 0, 0, 8, 5]])"
      ],
      "metadata": {
        "id": "jGhRMYll3e3B"
      },
      "execution_count": null,
      "outputs": []
    },
    {
      "cell_type": "code",
      "source": [
        ""
      ],
      "metadata": {
        "id": "CttbVqOs4HA0"
      },
      "execution_count": null,
      "outputs": []
    },
    {
      "cell_type": "code",
      "source": [
        "def sorted_lines(grille) : \n",
        "    tri = {}\n",
        "    for i in range(9) :\n",
        "        c= list(grille[i])\n",
        "        if c.count(0) != 0 : \n",
        "            tri[i] = c.count(0)\n",
        "    t = sorted(tri , key=tri.get)\n",
        "    print(tri)\n",
        "    return t, tri"
      ],
      "metadata": {
        "id": "PVfeFFFfTJVS"
      },
      "execution_count": null,
      "outputs": []
    },
    {
      "cell_type": "code",
      "source": [
        "def sorted_columns(grille) : \n",
        "    tri = {}\n",
        "    for i in range(9) :\n",
        "        c= list(grille[:,i])\n",
        "        if c.count(0) != 0 : \n",
        "            tri[i] = c.count(0)\n",
        "    t = sorted(tri , key=tri.get)\n",
        "    print(tri)\n",
        "    return t, tri"
      ],
      "metadata": {
        "id": "5R-lGylCTKed"
      },
      "execution_count": null,
      "outputs": []
    },
    {
      "cell_type": "code",
      "source": [
        "# retourne une liste contenant les clés triés & un dic ayant comme clé le numéro du carreau et comme valeur le nombre des cases vides\n",
        "def sorted_squars(grille) : \n",
        "    tri = {}\n",
        "    k = 0\n",
        "    for i in [0,3,6]:\n",
        "        for j in [0,3,6] :\n",
        "            g = grille[i:i+3, j:j+3]\n",
        "            c= list(g)\n",
        "            w = []\n",
        "            for ii in range(3) : \n",
        "                w = w + list(c[ii])\n",
        "            print(w)\n",
        "            if w.count(0) != 0 : \n",
        "                tri[k] = w.count(0)\n",
        "            k+=1\n",
        "    t = sorted(tri , key=tri.get)\n",
        "    print(tri)\n",
        "    return t, tri "
      ],
      "metadata": {
        "id": "arsx2XtgTSmh"
      },
      "execution_count": null,
      "outputs": []
    },
    {
      "cell_type": "code",
      "source": [
        "l3,d3 = sorted_squars(grille)"
      ],
      "metadata": {
        "colab": {
          "base_uri": "https://localhost:8080/"
        },
        "id": "cC2VnmNl7U1Y",
        "outputId": "90601c67-8d9a-4e29-ae70-1659521d92be"
      },
      "execution_count": null,
      "outputs": [
        {
          "output_type": "stream",
          "name": "stdout",
          "text": [
            "[1, 9, 8, 4, 0, 7, 2, 3, 0]\n",
            "[5, 4, 2, 9, 6, 3, 1, 0, 8]\n",
            "[7, 6, 3, 1, 0, 8, 9, 0, 0]\n",
            "[0, 2, 4, 0, 0, 0, 7, 6, 1]\n",
            "[0, 3, 1, 6, 2, 7, 4, 9, 0]\n",
            "[6, 9, 7, 0, 4, 0, 0, 3, 0]\n",
            "[0, 0, 0, 8, 0, 0, 6, 7, 0]\n",
            "[7, 0, 6, 0, 0, 4, 3, 0, 0]\n",
            "[0, 1, 9, 3, 0, 6, 0, 8, 5]\n",
            "{0: 2, 1: 1, 2: 3, 3: 4, 4: 2, 5: 4, 6: 6, 7: 5, 8: 3}\n"
          ]
        }
      ]
    },
    {
      "cell_type": "code",
      "source": [
        "def heuristic3 (grille) :\n",
        "  l1,d1 = sorted_lines(grille)\n",
        "  l2,d2 = sorted_columns(grille)\n",
        "  l3,d3 = sorted_squars(grille)\n",
        "\n",
        "  d = []\n",
        "\n",
        "  l = [d1[l1[0]], d2[l2[0]], d3[l3[0]]]\n",
        "  m = min(l)\n",
        "  i = l.index(m)\n",
        "  if i == 0 :\n",
        "    d.append((0,l1[0]))\n",
        "    d.append((1, l2[0]))\n",
        "    d.append((2, l3[0]))\n",
        "  elif i == 1 :\n",
        "    d.append((1, l2[0]))\n",
        "    d.append((0, l1[0]))\n",
        "    d.append((2, l3[0]))\n",
        "  else :\n",
        "    d.append((2,l3[0]))\n",
        "    d.append((1, l2[0]))\n",
        "    d.append((0, l1[0]))\n",
        "\n",
        "  return d"
      ],
      "metadata": {
        "id": "ADClhHWn9K1B"
      },
      "execution_count": null,
      "outputs": []
    },
    {
      "cell_type": "code",
      "source": [
        "f = sorted([7,2,8])\n",
        "f[1:]"
      ],
      "metadata": {
        "colab": {
          "base_uri": "https://localhost:8080/"
        },
        "id": "b4XCBmK-dtso",
        "outputId": "2942e67a-4980-4a88-ce4f-5feabe8a6d6c"
      },
      "execution_count": null,
      "outputs": [
        {
          "output_type": "execute_result",
          "data": {
            "text/plain": [
              "[7, 8]"
            ]
          },
          "metadata": {},
          "execution_count": 70
        }
      ]
    },
    {
      "cell_type": "code",
      "source": [
        "import copy\n",
        "def traiter2_col (grille, j): \n",
        "    état = []\n",
        "    n_grille = copy.deepcopy(grille)\n",
        "    l = set(grille[:,j]) #ensemble contenant la ligne num i du tableau \n",
        "    ch = chiffres.difference(l) #ensemble contenant les numéros manquants \n",
        "    print(ch)\n",
        "    for element in ch :\n",
        "        t ={}\n",
        "        for i in range(9) : \n",
        "            if grille[i,j] == 0 :\n",
        "                t[i] = verification_col(element,i,j)\n",
        "        values = list(t.values())\n",
        "        print(t)\n",
        "        if values.count(True) == 1 : \n",
        "            for key, val in t.items() : \n",
        "                if val == True : \n",
        "                    n_grille [key,j] = element \n",
        "                    break\n",
        "    return n_grille"
      ],
      "metadata": {
        "id": "8FFjwiSe-tX7"
      },
      "execution_count": null,
      "outputs": []
    },
    {
      "cell_type": "code",
      "source": [
        "traiter2_col(grille,0)"
      ],
      "metadata": {
        "colab": {
          "base_uri": "https://localhost:8080/"
        },
        "id": "TFswmvUISHpj",
        "outputId": "3b6e6abf-19ee-4751-a4a9-70f1112206f2"
      },
      "execution_count": null,
      "outputs": [
        {
          "output_type": "stream",
          "name": "stdout",
          "text": [
            "{9, 3, 5}\n",
            "{3: False, 4: True, 6: False}\n",
            "{3: False, 4: True, 6: True}\n",
            "{3: True, 4: True, 6: True}\n"
          ]
        },
        {
          "output_type": "execute_result",
          "data": {
            "text/plain": [
              "array([[1, 9, 8, 5, 4, 2, 7, 6, 3],\n",
              "       [4, 0, 7, 9, 6, 3, 1, 0, 8],\n",
              "       [2, 3, 0, 1, 0, 8, 9, 0, 0],\n",
              "       [0, 2, 4, 0, 3, 1, 6, 9, 7],\n",
              "       [9, 0, 0, 6, 2, 7, 0, 4, 0],\n",
              "       [7, 6, 1, 4, 9, 0, 0, 3, 0],\n",
              "       [0, 0, 0, 7, 0, 6, 0, 1, 9],\n",
              "       [8, 0, 0, 0, 0, 4, 3, 0, 6],\n",
              "       [6, 7, 0, 3, 0, 0, 0, 8, 5]])"
            ]
          },
          "metadata": {},
          "execution_count": 64
        }
      ]
    },
    {
      "cell_type": "code",
      "source": [
        "def carre(grille, i) :\n",
        "  n_grille = copy.deepcopy(grille)\n",
        "  if i == 0 :\n",
        "    g = grille[0:3, 0:3]\n",
        "  elif i == 1 : \n",
        "    g = grille [0:3, 3:6]\n",
        "  elif i == 2 : \n",
        "    g = grille [0:3, 6:9]\n",
        "  elif i == 3 : \n",
        "    g = grille [3:6, 0:3]\n",
        "  elif i == 4 : \n",
        "    g = grille [3:6, 3:6]\n",
        "  elif i == 5 : \n",
        "    g = grille [3:6, 6:9]\n",
        "  elif i == 6 : \n",
        "    g = grille [6:9, 0:3]\n",
        "  elif i == 7 : \n",
        "    g = grille [6:9, 3:6]\n",
        "  else : \n",
        "    g = grille [6:9, 6:8]\n",
        "\n",
        "  #print(g)\n",
        "  l = set(g.flatten())\n",
        "  ch = chiffres.difference(l) #ensemble contenant les numéros manquants \n",
        "  #print(l)\n",
        "  for element in ch :\n",
        "      t ={}\n",
        "      if i in [0,3,6] :\n",
        "        for j in range(i,i+3) :\n",
        "          for k in range(3) :\n",
        "            if grille[j,k] == 0 :\n",
        "                t[(j,k)] = verification_carre(element,j,k)\n",
        "      if i in [2,5,8]: \n",
        "        p = i % 3 \n",
        "        for j in range(p,p+3) :\n",
        "          for k in range(6,9) :\n",
        "            if grille[j,k] == 0 :\n",
        "                t[(j,k)] = verification_carre(element,j,k)\n",
        "      if i in [1,4,7] :\n",
        "        p = i % 3 \n",
        "        for j in range(p,p+3) :\n",
        "          for k in range(3,6) :\n",
        "            if grille[j,k] == 0 :\n",
        "                t[(j,k)] = verification_carre(element,j,k)\n",
        "      print(t)\n",
        "      values = list(t.values())\n",
        "      print(t.items())\n",
        "      if values.count(True) == 1 : \n",
        "            for key, val in t.items() : \n",
        "                if val == True : \n",
        "                    n_grille [key[0],key[1]] = element \n",
        "                    break\n",
        "\n",
        "  return n_grille"
      ],
      "metadata": {
        "id": "dfYHealtAU-4"
      },
      "execution_count": null,
      "outputs": []
    },
    {
      "cell_type": "code",
      "source": [
        "carre(grille,0)"
      ],
      "metadata": {
        "id": "fXbV8W4zDUrL"
      },
      "execution_count": null,
      "outputs": []
    },
    {
      "cell_type": "code",
      "source": [
        "import copy\n",
        "File = [S_initial]\n",
        "grille = copy.deepcopy(S_initial)\n",
        "print(grille)\n",
        "nb_iteration = 0\n",
        "\n",
        "while (not((np.array_equal(grille,S_solution))) and (File != [])) :\n",
        "  nb_iteration +=1 \n",
        "  grille = defiler(File)\n",
        " # if nb_iteration == 1 :\n",
        "  #  defiler(File)\n",
        "  # if nb_iteration != 1 : #else : \n",
        "  #   File = []\n",
        "  d = heuristic3(grille)\n",
        "  fi = d[0]\n",
        "  i = fi[1]\n",
        "  print(\"i=\",i)\n",
        "  print(\"f[0]\", fi[0])\n",
        "  d1 = d[1:]\n",
        "  for h in d1 :\n",
        "    x = h[0]\n",
        "    y = h[1]\n",
        "    l = list(grille[y])\n",
        "    if l.count(0) != 0 :\n",
        "      g = traiter2(grille, y)\n",
        "      if not((np.array_equal(grille,g)) ):\n",
        "        enfiler(File,g)\n",
        "  if fi[0] == 0 :\n",
        "    l = list(grille[i])\n",
        "    if l.count(0) != 0 :\n",
        "      g = traiter2(grille, i)\n",
        "      if not((np.array_equal(grille,g)) ):\n",
        "        enfiler(File,g)\n",
        "        #print(nb_iteration,\" file :\",File)\n",
        "  elif fi[0] == 1 :\n",
        "      l = list(grille[:,i])\n",
        "      if l.count(0) != 0 :\n",
        "        g = traiter2_col (grille, i)\n",
        "        if not((np.array_equal(grille,g)) ):\n",
        "          enfiler(File,g)\n",
        "          #print(nb_iteration,\" file :\",File)\n",
        "  else : \n",
        "        g = carre(grille,i)\n",
        "        if not((np.array_equal(grille,g)) ):\n",
        "          enfiler(File,g)\n",
        "  \n",
        "  print(\"grille =  \",grille)\n",
        "  \n",
        "    \n",
        "print(grille)\n",
        "print(\"le nombre d'iteration est : \",nb_iteration)"
      ],
      "metadata": {
        "id": "4IJc0OsU9cw0"
      },
      "execution_count": null,
      "outputs": []
    },
    {
      "cell_type": "code",
      "source": [
        ""
      ],
      "metadata": {
        "id": "eTFirlHPJNFu"
      },
      "execution_count": null,
      "outputs": []
    }
  ]
}